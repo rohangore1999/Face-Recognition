{
 "cells": [
  {
   "cell_type": "code",
   "execution_count": 13,
   "metadata": {},
   "outputs": [],
   "source": [
    "import face_recognition"
   ]
  },
  {
   "cell_type": "code",
   "execution_count": 12,
   "metadata": {},
   "outputs": [
    {
     "name": "stdout",
     "output_type": "stream",
     "text": [
      "Collecting face_recognition\n",
      "  Using cached https://files.pythonhosted.org/packages/3f/ed/ad9a28042f373d4633fc8b49109b623597d6f193d3bbbef7780a5ee8eef2/face_recognition-1.2.3-py2.py3-none-any.whl\n",
      "Requirement already satisfied: numpy in c:\\users\\rohan gore\\anaconda3\\lib\\site-packages (from face_recognition) (1.16.2)\n",
      "Collecting dlib>=19.7 (from face_recognition)\n",
      "  Using cached https://files.pythonhosted.org/packages/05/57/e8a8caa3c89a27f80bc78da39c423e2553f482a3705adc619176a3a24b36/dlib-19.17.0.tar.gz\n",
      "Requirement already satisfied: face-recognition-models>=0.3.0 in c:\\users\\rohan gore\\anaconda3\\lib\\site-packages (from face_recognition) (0.3.0)\n",
      "Requirement already satisfied: Pillow in c:\\users\\rohan gore\\anaconda3\\lib\\site-packages (from face_recognition) (5.0.0)\n",
      "Requirement already satisfied: Click>=6.0 in c:\\users\\rohan gore\\anaconda3\\lib\\site-packages (from face_recognition) (6.7)\n",
      "Building wheels for collected packages: dlib\n",
      "  Building wheel for dlib (setup.py): started\n",
      "  Building wheel for dlib (setup.py): still running...\n",
      "  Building wheel for dlib (setup.py): still running...\n",
      "  Building wheel for dlib (setup.py): still running...\n",
      "  Building wheel for dlib (setup.py): still running...\n",
      "  Building wheel for dlib (setup.py): still running...\n",
      "  Building wheel for dlib (setup.py): still running...\n",
      "  Building wheel for dlib (setup.py): still running...\n",
      "  Building wheel for dlib (setup.py): finished with status 'done'\n",
      "  Stored in directory: C:\\Users\\Rohan Gore\\AppData\\Local\\pip\\Cache\\wheels\\50\\b6\\b5\\5f46aacfd18028ff57591cfb53fcc7554362977c15e9060e67\n",
      "Successfully built dlib\n",
      "Installing collected packages: dlib, face-recognition\n",
      "Successfully installed dlib-19.17.0 face-recognition-1.2.3\n"
     ]
    },
    {
     "name": "stderr",
     "output_type": "stream",
     "text": [
      "You are using pip version 19.0.3, however version 19.1 is available.\n",
      "You should consider upgrading via the 'python -m pip install --upgrade pip' command.\n"
     ]
    }
   ],
   "source": [
    "!pip3 install face_recognition"
   ]
  },
  {
   "cell_type": "code",
   "execution_count": 11,
   "metadata": {},
   "outputs": [
    {
     "name": "stdout",
     "output_type": "stream",
     "text": [
      "Collecting cmake\n",
      "  Downloading https://files.pythonhosted.org/packages/af/07/fd33446a4b8ca51f81d805f6a57f9594e24c1b530823a4c7436e4f468219/cmake-3.13.3-cp36-cp36m-win_amd64.whl (29.4MB)\n",
      "Installing collected packages: cmake\n",
      "Successfully installed cmake-3.13.3\n"
     ]
    },
    {
     "name": "stderr",
     "output_type": "stream",
     "text": [
      "You are using pip version 19.0.3, however version 19.1 is available.\n",
      "You should consider upgrading via the 'python -m pip install --upgrade pip' command.\n"
     ]
    }
   ],
   "source": [
    "!pip install cmake "
   ]
  },
  {
   "cell_type": "code",
   "execution_count": 43,
   "metadata": {},
   "outputs": [
    {
     "name": "stdout",
     "output_type": "stream",
     "text": [
      "[(39, 411, 101, 349), (101, 294, 163, 232), (38, 95, 90, 43), (72, 164, 124, 112)]\n"
     ]
    }
   ],
   "source": [
    "image= face_recognition.load_image_file('./img/groups/team1.jpg')\n",
    "face_locations=face_recognition.face_locations(image)\n",
    "#array of coords of each face(top, right, bottom left) \n",
    "print(face_locations)"
   ]
  },
  {
   "cell_type": "markdown",
   "metadata": {},
   "source": [
    "FaceMatch"
   ]
  },
  {
   "cell_type": "code",
   "execution_count": 21,
   "metadata": {},
   "outputs": [
    {
     "name": "stdout",
     "output_type": "stream",
     "text": [
      "This is Bill Gates\n"
     ]
    }
   ],
   "source": [
    "#KNOWN image\n",
    "image_of_bill = face_recognition.load_image_file('C:/Users/Rohan Gore/Documents/Machine Learning/Untitled Folder/img/known/Bill Gates.jpg')\n",
    "#face encoding\n",
    "bill_face_encoding= face_recognition.face_encodings(image_of_bill)[0]\n",
    "\n",
    "#UNKNOWN image\n",
    "unknown_image = face_recognition.load_image_file('C:/Users/Rohan Gore/Documents/Machine Learning/Untitled Folder/img/unknown/bill-gates-4.jpg')\n",
    "#face encoding\n",
    "unknown_face_encoding= face_recognition.face_encodings(unknown_image)[0]\n",
    "\n",
    "#Compare Faces\n",
    "results= face_recognition.compare_faces([bill_face_encoding], unknown_face_encoding)\n",
    "#the result contain 0 or 1 value.\n",
    "if results[0]:\n",
    "    print(\"This is Bill Gates\")\n",
    "else:\n",
    "    print(\"This is not\")"
   ]
  },
  {
   "cell_type": "markdown",
   "metadata": {},
   "source": [
    "Pull Faces"
   ]
  },
  {
   "cell_type": "code",
   "execution_count": 27,
   "metadata": {},
   "outputs": [],
   "source": [
    "from PIL import Image, ImageDraw"
   ]
  },
  {
   "cell_type": "code",
   "execution_count": 26,
   "metadata": {},
   "outputs": [],
   "source": [
    "#get location\n",
    "image= face_recognition.load_image_file('./img/groups/team1.jpg')\n",
    "face_locations=face_recognition.face_locations(image)\n",
    "\n",
    "#Loop through faces\n",
    "for face_location in face_locations:\n",
    "    top,right,bottom,left = face_location\n",
    "    \n",
    "    face_image=image[top:bottom, left:right] #face img in form of array. And we get actually img help of PIL lib.\n",
    "    pil_image=Image.fromarray(face_image)\n",
    "    pil_image.show()\n",
    "    \n",
    "    #save face image\n",
    "    pil_image.save(f'{top}.jpg')"
   ]
  },
  {
   "cell_type": "markdown",
   "metadata": {},
   "source": [
    "Identify"
   ]
  },
  {
   "cell_type": "code",
   "execution_count": 45,
   "metadata": {},
   "outputs": [],
   "source": [
    "#face of bill gates\n",
    "image_of_bill = face_recognition.load_image_file('C:/Users/Rohan Gore/Documents/Machine Learning/Untitled Folder/img/known/Bill Gates.jpg')\n",
    "#face encoding\n",
    "bill_face_encoding= face_recognition.face_encodings(image_of_bill)[0]\n",
    "\n",
    "#face of steve jobs\n",
    "image_of_steve = face_recognition.load_image_file('C:/Users/Rohan Gore/Documents/Machine Learning/Untitled Folder/img/known/Steve jobs.jpg')\n",
    "#face encoding\n",
    "steve_face_encoding= face_recognition.face_encodings(image_of_steve)[0]\n",
    "\n",
    "#create array of encoding and names\n",
    "known_face_encodings=[\n",
    "    bill_face_encoding,\n",
    "    steve_face_encoding\n",
    "    \n",
    "]\n",
    "\n",
    "known_face_names=[\n",
    "    \"Bill Gates\",\n",
    "    \"Steve Jobs\"\n",
    "]\n",
    "\n",
    "#load test image to find faces in\n",
    "test_image=face_recognition.load_image_file('C:/Users/Rohan Gore/Documents/Machine Learning/Untitled Folder/img/groups/bill-steve-elon.jpg')\n",
    "\n",
    "#find face in test image\n",
    "face_locations = face_recognition.face_locations(test_image)\n",
    "face_encodings = face_recognition.face_encodings(test_image,face_locations)\n",
    "\n",
    "#convt to PIL format\n",
    "pil_image=Image.fromarray(test_image)\n",
    "\n",
    "#create Imgdraw instance\n",
    "draw=ImageDraw.Draw(pil_image)\n",
    "\n",
    "#loop through faces in test img\n",
    "for(top,right,bottom,left), face_encoding in zip(face_locations, face_encodings):\n",
    "    matches=face_recognition.compare_faces(known_face_encodings,face_encoding) # (test img encoding, define img)  \n",
    "    \n",
    "    name=\"Unknown Person\" # default value\n",
    "    \n",
    "    #if match\n",
    "    if True in matches:\n",
    "        first_match_index=matches.index(True)\n",
    "        name=known_face_names[first_match_index]\n",
    "        \n",
    "    #draw box if match with firt know face name\n",
    "    draw.rectangle(((left,top),(right,bottom)),outline=(0,0,0))\n",
    "    \n",
    "    #draw label\n",
    "    text_width, text_height=draw.textsize(name)\n",
    "    draw.rectangle(((left, bottom - text_height - 10),(right,bottom)),fill=(0,0,0),outline=(0,0,0))\n",
    "    draw.text((left + 6, bottom - text_height - 5), name, fill=(255,255,255,255))\n",
    "    \n",
    "del draw\n",
    "    \n",
    "# display img\n",
    "pil_image.show()"
   ]
  },
  {
   "cell_type": "code",
   "execution_count": null,
   "metadata": {},
   "outputs": [],
   "source": []
  }
 ],
 "metadata": {
  "kernelspec": {
   "display_name": "Python 3",
   "language": "python",
   "name": "python3"
  },
  "language_info": {
   "codemirror_mode": {
    "name": "ipython",
    "version": 3
   },
   "file_extension": ".py",
   "mimetype": "text/x-python",
   "name": "python",
   "nbconvert_exporter": "python",
   "pygments_lexer": "ipython3",
   "version": "3.6.4"
  }
 },
 "nbformat": 4,
 "nbformat_minor": 2
}
